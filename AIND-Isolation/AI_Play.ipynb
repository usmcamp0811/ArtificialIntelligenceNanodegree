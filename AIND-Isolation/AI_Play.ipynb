{
 "cells": [
  {
   "cell_type": "code",
   "execution_count": 8,
   "metadata": {
    "collapsed": true
   },
   "outputs": [],
   "source": [
    "from game_agent import *\n",
    "from isolation import Board\n",
    "from sample_players import RandomPlayer\n",
    "from sample_players import GreedyPlayer\n",
    "from tournament import *\n",
    "\n",
    "# create an isolation board (by default 7x7)\n",
    "player2 = GreedyPlayer()\n",
    "player1 = AlphaBetaPlayer(search_depth=3, score_fn=custom_score_2, timeout=10)\n",
    "# player1 = MinimaxPlayer(search_depth=3, score_fn=custom_score_2, timeout=10)\n",
    "game = Board(player1, player2)\n",
    "# player = MinimaxPlayer(player)"
   ]
  },
  {
   "cell_type": "code",
   "execution_count": 16,
   "metadata": {},
   "outputs": [
    {
     "name": "stdout",
     "output_type": "stream",
     "text": [
      "     0   1   2   3   4   5   6\n",
      "\r",
      "0  | - |   |   | - |   |   |   | \n",
      "\r",
      "1  |   | 1 | - | - |   | - |   | \n",
      "\r",
      "2  |   |   | - | - | - | - |   | \n",
      "\r",
      "3  | - |   | - | - | - | - | - | \n",
      "\r",
      "4  |   | - | - | - | - |   | - | \n",
      "\r",
      "5  |   | - |   |   | - | - |   | \n",
      "\r",
      "6  |   |   |   | - |   |   | 2 | \n",
      "\r\n"
     ]
    }
   ],
   "source": [
    "print(game.to_string())"
   ]
  },
  {
   "cell_type": "code",
   "execution_count": 10,
   "metadata": {},
   "outputs": [
    {
     "name": "stdout",
     "output_type": "stream",
     "text": [
      "******Round <sample_players.GreedyPlayer object at 0x7f87481a9630>***********\n",
      "******Round []***********\n",
      "******Round illegal move***********\n"
     ]
    }
   ],
   "source": [
    "for i in game.play():\n",
    "    print('******Round {}***********'.format(i))\n",
    "#     p1 = player1.get_move(game, time_left=10)\n",
    "#     print('Player1 Move: ', p1)\n",
    "#     if p1 == (-1,-1):\n",
    "#         print('Loser')\n",
    "#         break\n",
    "    game.apply_move(i)\n",
    "#     print(game.to_string())\n",
    "#     p2 = player2.get_move(game, time_left=10)\n",
    "#     print('Player2 Move: ', p2)\n",
    "#     if p2 == (-1,-1):\n",
    "#         print('Winner')\n",
    "#         break\n",
    "#     game.apply_move(p2)\n",
    "    print(game.to_string())"
   ]
  },
  {
   "cell_type": "code",
   "execution_count": 12,
   "metadata": {
    "collapsed": true
   },
   "outputs": [],
   "source": [
    "test_agents = [\n",
    "    Agent(AlphaBetaPlayer(score_fn=improved_score), \"AB_Improved\"),\n",
    "    Agent(AlphaBetaPlayer(score_fn=custom_score), \"AB_Custom\"),\n",
    "    Agent(AlphaBetaPlayer(score_fn=custom_score_2), \"AB_Custom_2\"),\n",
    "    Agent(AlphaBetaPlayer(score_fn=custom_score_3), \"AB_Custom_3\")\n",
    "]\n",
    "\n",
    "cpu_agents = [\n",
    "    Agent(RandomPlayer(), \"Random\"),\n",
    "    Agent(MinimaxPlayer(score_fn=open_move_score), \"MM_Open\"),\n",
    "    Agent(MinimaxPlayer(score_fn=center_score), \"MM_Center\"),\n",
    "    Agent(MinimaxPlayer(score_fn=improved_score), \"MM_Improved\"),\n",
    "    Agent(AlphaBetaPlayer(score_fn=open_move_score), \"AB_Open\"),\n",
    "    Agent(AlphaBetaPlayer(score_fn=center_score), \"AB_Center\"),\n",
    "    Agent(AlphaBetaPlayer(score_fn=improved_score), \"AB_Improved\")\n",
    "]\n",
    "num_matches = 1"
   ]
  },
  {
   "cell_type": "code",
   "execution_count": 13,
   "metadata": {},
   "outputs": [
    {
     "name": "stdout",
     "output_type": "stream",
     "text": [
      "\n",
      " Match #   Opponent    AB_Improved   AB_Custom   AB_Custom_2  AB_Custom_3 \n",
      "                        Won | Lost   Won | Lost   Won | Lost   Won | Lost \n",
      "    1       Random       2  |   0     2  |   0     0  |   2     2  |   0  \n",
      "    2       MM_Open      2  |   0     2  |   0     2  |   0     2  |   0  \n",
      "    3      MM_Center     2  |   0     2  |   0     2  |   0     2  |   0  \n",
      "    4     MM_Improved    2  |   0     2  |   0     2  |   0     2  |   0  \n",
      "    5       AB_Open      0  |   2     0  |   2     1  |   1     1  |   1  \n",
      "    6      AB_Center     1  |   1     1  |   1     2  |   0     1  |   1  \n",
      "    7     AB_Improved    1  |   1     0  |   2     0  |   2     0  |   2  \n"
     ]
    }
   ],
   "source": [
    "total_wins = {agent.player: 0 for agent in test_agents}\n",
    "total_timeouts = 0.\n",
    "total_forfeits = 0.\n",
    "total_matches = 2 * num_matches * len(cpu_agents)\n",
    "\n",
    "print(\"\\n{:^9}{:^13}\".format(\"Match #\", \"Opponent\") + ''.join(['{:^13}'.format(x[1].name) for x in enumerate(test_agents)]))\n",
    "print(\"{:^9}{:^13} \".format(\"\", \"\") +  ' '.join(['{:^5}| {:^5}'.format(\"Won\", \"Lost\") for x in enumerate(test_agents)]))\n",
    "\n",
    "for idx, agent in enumerate(cpu_agents):\n",
    "    wins = {key: 0 for (key, value) in test_agents}\n",
    "    wins[agent.player] = 0\n",
    "\n",
    "    print(\"{!s:^9}{:^13}\".format(idx + 1, agent.name), end=\"\", flush=True)\n",
    "\n",
    "    counts = play_round(agent, test_agents, wins, num_matches)\n",
    "    total_timeouts += counts[0]\n",
    "    total_forfeits += counts[1]\n",
    "#     print(counts[1], num_matches)\n",
    "    total_wins = update(total_wins, wins)\n",
    "    _total = 2 * num_matches\n",
    "    round_totals = sum([[wins[agent.player], _total - wins[agent.player]]\n",
    "                        for agent in test_agents], [])\n",
    "    print(' ' + ' '.join([\n",
    "        '{:^5}| {:^5}'.format(\n",
    "            round_totals[i],round_totals[i+1]\n",
    "        ) for i in range(0, len(round_totals), 2)\n",
    "    ]))"
   ]
  },
  {
   "cell_type": "code",
   "execution_count": 5,
   "metadata": {},
   "outputs": [],
   "source": [
    "cpu_agent = cpu_agents[3]\n",
    "win_counts = {key: 0 for (key, value) in test_agents}\n",
    "win_counts[cpu_agent.player] = 0"
   ]
  },
  {
   "cell_type": "code",
   "execution_count": 39,
   "metadata": {},
   "outputs": [
    {
     "name": "stdout",
     "output_type": "stream",
     "text": [
      "forfeit\n",
      "forfeit\n",
      "forfeit\n",
      "forfeit\n",
      "forfeit\n",
      "forfeit\n",
      "forfeit\n",
      "forfeit\n"
     ]
    }
   ],
   "source": [
    "timeout_count = 0\n",
    "forfeit_count = 0\n",
    "for _ in range(num_matches):\n",
    "\n",
    "    games = sum([[Board(cpu_agent.player, agent.player),\n",
    "                  Board(agent.player, cpu_agent.player)]\n",
    "                for agent in test_agents], [])\n",
    "\n",
    "    # initialize all games with a random move and response\n",
    "    for _ in range(2):\n",
    "        move = random.choice(games[0].get_legal_moves())\n",
    "        for game in games:\n",
    "            game.apply_move(move)\n",
    "\n",
    "    # play all games and tally the results\n",
    "    for game in games:\n",
    "        winner, _, termination = game.play(time_limit=TIME_LIMIT)\n",
    "        win_counts[winner] += 1\n",
    "\n",
    "        if termination == \"timeout\":\n",
    "            timeout_count += 1\n",
    "            print('timeout')\n",
    "        elif termination == \"forfeit\":\n",
    "            forfeit_count += 1\n",
    "            print('forfeit')"
   ]
  },
  {
   "cell_type": "code",
   "execution_count": 3,
   "metadata": {
    "scrolled": false
   },
   "outputs": [
    {
     "name": "stdout",
     "output_type": "stream",
     "text": [
      "******Round 0***********\n"
     ]
    },
    {
     "ename": "TypeError",
     "evalue": "'int' object is not callable",
     "output_type": "error",
     "traceback": [
      "\u001b[0;31m---------------------------------------------------------------------------\u001b[0m",
      "\u001b[0;31mTypeError\u001b[0m                                 Traceback (most recent call last)",
      "\u001b[0;32m<ipython-input-3-98972963cd72>\u001b[0m in \u001b[0;36m<module>\u001b[0;34m()\u001b[0m\n\u001b[1;32m      1\u001b[0m \u001b[0;32mfor\u001b[0m \u001b[0mi\u001b[0m \u001b[0;32min\u001b[0m \u001b[0mrange\u001b[0m\u001b[0;34m(\u001b[0m\u001b[0;36m50\u001b[0m\u001b[0;34m)\u001b[0m\u001b[0;34m:\u001b[0m\u001b[0;34m\u001b[0m\u001b[0m\n\u001b[1;32m      2\u001b[0m     \u001b[0mprint\u001b[0m\u001b[0;34m(\u001b[0m\u001b[0;34m'******Round {}***********'\u001b[0m\u001b[0;34m.\u001b[0m\u001b[0mformat\u001b[0m\u001b[0;34m(\u001b[0m\u001b[0mi\u001b[0m\u001b[0;34m)\u001b[0m\u001b[0;34m)\u001b[0m\u001b[0;34m\u001b[0m\u001b[0m\n\u001b[0;32m----> 3\u001b[0;31m     \u001b[0mp1\u001b[0m \u001b[0;34m=\u001b[0m \u001b[0mplayer1\u001b[0m\u001b[0;34m.\u001b[0m\u001b[0mget_move\u001b[0m\u001b[0;34m(\u001b[0m\u001b[0mgame\u001b[0m\u001b[0;34m,\u001b[0m \u001b[0mtime_left\u001b[0m\u001b[0;34m=\u001b[0m\u001b[0;36m10\u001b[0m\u001b[0;34m)\u001b[0m\u001b[0;34m\u001b[0m\u001b[0m\n\u001b[0m\u001b[1;32m      4\u001b[0m     \u001b[0mprint\u001b[0m\u001b[0;34m(\u001b[0m\u001b[0;34m'Player1 Move: '\u001b[0m\u001b[0;34m,\u001b[0m \u001b[0mp1\u001b[0m\u001b[0;34m)\u001b[0m\u001b[0;34m\u001b[0m\u001b[0m\n\u001b[1;32m      5\u001b[0m     \u001b[0;32mif\u001b[0m \u001b[0mp1\u001b[0m \u001b[0;34m==\u001b[0m \u001b[0;34m(\u001b[0m\u001b[0;34m-\u001b[0m\u001b[0;36m1\u001b[0m\u001b[0;34m,\u001b[0m\u001b[0;34m-\u001b[0m\u001b[0;36m1\u001b[0m\u001b[0;34m)\u001b[0m\u001b[0;34m:\u001b[0m\u001b[0;34m\u001b[0m\u001b[0m\n",
      "\u001b[0;32m~/PythonProjects/ArtificialIntelligenceNanodegree/AIND-Isolation/game_agent.py\u001b[0m in \u001b[0;36mget_move\u001b[0;34m(self, game, time_left)\u001b[0m\n\u001b[1;32m    390\u001b[0m             \u001b[0;34m(\u001b[0m\u001b[0;34m-\u001b[0m\u001b[0;36m1\u001b[0m\u001b[0;34m,\u001b[0m \u001b[0;34m-\u001b[0m\u001b[0;36m1\u001b[0m\u001b[0;34m)\u001b[0m \u001b[0;32mif\u001b[0m \u001b[0mthere\u001b[0m \u001b[0mare\u001b[0m \u001b[0mno\u001b[0m \u001b[0mavailable\u001b[0m \u001b[0mlegal\u001b[0m \u001b[0mmoves\u001b[0m\u001b[0;34m.\u001b[0m\u001b[0;34m\u001b[0m\u001b[0m\n\u001b[1;32m    391\u001b[0m         \"\"\"\n\u001b[0;32m--> 392\u001b[0;31m         \u001b[0mprint\u001b[0m\u001b[0;34m(\u001b[0m\u001b[0mtime_left\u001b[0m\u001b[0;34m(\u001b[0m\u001b[0;34m)\u001b[0m\u001b[0;34m)\u001b[0m\u001b[0;34m\u001b[0m\u001b[0m\n\u001b[0m\u001b[1;32m    393\u001b[0m         \u001b[0mself\u001b[0m\u001b[0;34m.\u001b[0m\u001b[0mtime_left\u001b[0m \u001b[0;34m=\u001b[0m \u001b[0mtime_left\u001b[0m\u001b[0;34m\u001b[0m\u001b[0m\n\u001b[1;32m    394\u001b[0m         \u001b[0;31m# have a move ready\u001b[0m\u001b[0;34m\u001b[0m\u001b[0;34m\u001b[0m\u001b[0m\n",
      "\u001b[0;31mTypeError\u001b[0m: 'int' object is not callable"
     ]
    }
   ],
   "source": [
    "for i in range(50):\n",
    "    print('******Round {}***********'.format(i))\n",
    "    p1 = player1.get_move(game, time_left=10)\n",
    "    print('Player1 Move: ', p1)\n",
    "    if p1 == (-1,-1):\n",
    "        print('Loser')\n",
    "        break\n",
    "    game.apply_move(p1)\n",
    "#     print(game.to_string())\n",
    "    p2 = player2.get_move(game, time_left=10)\n",
    "    print('Player2 Move: ', p2)\n",
    "    if p2 == (-1,-1):\n",
    "        print('Winner')\n",
    "        break\n",
    "    game.apply_move(p2)\n",
    "    print(game.to_string())"
   ]
  },
  {
   "cell_type": "code",
   "execution_count": 6,
   "metadata": {},
   "outputs": [
    {
     "name": "stdout",
     "output_type": "stream",
     "text": [
      "     0   1   2   3   4   5   6\n",
      "\r",
      "0  | - | - |   |   |   | - | 2 | \n",
      "\r",
      "1  |   |   | - | - | - |   |   | \n",
      "\r",
      "2  | - |   | - | - | - |   | 1 | \n",
      "\r",
      "3  |   |   | - | - | - | - |   | \n",
      "\r",
      "4  |   | - | - | - | - | - |   | \n",
      "\r",
      "5  |   |   |   | - |   |   |   | \n",
      "\r",
      "6  |   |   |   |   |   |   |   | \n",
      "\r\n"
     ]
    }
   ],
   "source": [
    "print(game.to_string())"
   ]
  },
  {
   "cell_type": "code",
   "execution_count": 8,
   "metadata": {},
   "outputs": [
    {
     "data": {
      "text/plain": [
       "[]"
      ]
     },
     "execution_count": 8,
     "metadata": {},
     "output_type": "execute_result"
    }
   ],
   "source": [
    "game.get_legal_moves()"
   ]
  },
  {
   "cell_type": "code",
   "execution_count": 3,
   "metadata": {},
   "outputs": [
    {
     "ename": "NameError",
     "evalue": "name 'player' is not defined",
     "output_type": "error",
     "traceback": [
      "\u001b[0;31m---------------------------------------------------------------------------\u001b[0m",
      "\u001b[0;31mNameError\u001b[0m                                 Traceback (most recent call last)",
      "\u001b[0;32m<ipython-input-3-f79326a44c91>\u001b[0m in \u001b[0;36m<module>\u001b[0;34m()\u001b[0m\n\u001b[0;32m----> 1\u001b[0;31m \u001b[0mplayer\u001b[0m\u001b[0;34m.\u001b[0m\u001b[0mtime_left\u001b[0m\u001b[0;34m,\u001b[0m \u001b[0mplayer\u001b[0m\u001b[0;34m.\u001b[0m\u001b[0mTIMER_THRESHOLD\u001b[0m\u001b[0;34m\u001b[0m\u001b[0m\n\u001b[0m",
      "\u001b[0;31mNameError\u001b[0m: name 'player' is not defined"
     ]
    }
   ],
   "source": [
    "player.time_left, player.TIMER_THRESHOLD"
   ]
  },
  {
   "cell_type": "code",
   "execution_count": 4,
   "metadata": {},
   "outputs": [
    {
     "data": {
      "text/plain": [
       "<game_agent.MinimaxPlayer at 0x7f48b9678588>"
      ]
     },
     "execution_count": 4,
     "metadata": {},
     "output_type": "execute_result"
    }
   ],
   "source": [
    "player1"
   ]
  },
  {
   "cell_type": "code",
   "execution_count": 4,
   "metadata": {},
   "outputs": [
    {
     "name": "stdout",
     "output_type": "stream",
     "text": [
      "YRES!\n",
      "YRES!\n",
      "YRES!\n",
      "YRES!\n",
      "YRES!\n",
      "YRES!\n",
      "YRES!\n",
      "YRES!\n",
      "YRES!\n",
      "YRES!\n",
      "YRES!\n",
      "YRES!\n",
      "YRES!\n",
      "YRES!\n",
      "YRES!\n",
      "YRES!\n",
      "YRES!\n",
      "YRES!\n",
      "YRES!\n",
      "YRES!\n",
      "YRES!\n",
      "YRES!\n",
      "YRES!\n",
      "YRES!\n",
      "YRES!\n",
      "YRES!\n",
      "YRES!\n",
      "YRES!\n",
      "YRES!\n",
      "YRES!\n",
      "YRES!\n",
      "YRES!\n",
      "YRES!\n",
      "YRES!\n",
      "YRES!\n",
      "YRES!\n",
      "YRES!\n",
      "YRES!\n",
      "YRES!\n",
      "YRES!\n",
      "YRES!\n",
      "YRES!\n",
      "YRES!\n",
      "YRES!\n",
      "YRES!\n",
      "YRES!\n",
      "YRES!\n",
      "10.0 (-1, -1) (-1, -1)\n"
     ]
    }
   ],
   "source": []
  },
  {
   "cell_type": "code",
   "execution_count": null,
   "metadata": {
    "collapsed": true
   },
   "outputs": [],
   "source": []
  }
 ],
 "metadata": {
  "kernelspec": {
   "display_name": "Python 3",
   "language": "python",
   "name": "python3"
  },
  "language_info": {
   "codemirror_mode": {
    "name": "ipython",
    "version": 3
   },
   "file_extension": ".py",
   "mimetype": "text/x-python",
   "name": "python",
   "nbconvert_exporter": "python",
   "pygments_lexer": "ipython3",
   "version": "3.6.1"
  }
 },
 "nbformat": 4,
 "nbformat_minor": 1
}
