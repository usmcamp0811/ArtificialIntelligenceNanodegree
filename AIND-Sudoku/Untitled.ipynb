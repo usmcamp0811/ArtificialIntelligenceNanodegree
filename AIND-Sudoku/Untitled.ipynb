{
 "cells": [
  {
   "cell_type": "code",
   "execution_count": 1,
   "metadata": {
    "collapsed": true
   },
   "outputs": [],
   "source": [
    "from solution import *"
   ]
  },
  {
   "cell_type": "code",
   "execution_count": 2,
   "metadata": {
    "collapsed": true
   },
   "outputs": [],
   "source": [
    "diag_sudoku_grid = '9.1....8.8.5.7..4.2.4....6...7......5..............83.3..6......9................'"
   ]
  },
  {
   "cell_type": "code",
   "execution_count": 4,
   "metadata": {},
   "outputs": [
    {
     "name": "stdout",
     "output_type": "stream",
     "text": [
      "    9     123456789     1     |123456789 123456789 123456789 |123456789     8     123456789 \n",
      "    8     123456789     5     |123456789     7     123456789 |123456789     4     123456789 \n",
      "    2     123456789     4     |123456789 123456789 123456789 |123456789     6     123456789 \n",
      "------------------------------+------------------------------+------------------------------\n",
      "123456789 123456789     7     |123456789 123456789 123456789 |123456789 123456789 123456789 \n",
      "    5     123456789 123456789 |123456789 123456789 123456789 |123456789 123456789 123456789 \n",
      "123456789 123456789 123456789 |123456789 123456789 123456789 |    8         3     123456789 \n",
      "------------------------------+------------------------------+------------------------------\n",
      "    3     123456789 123456789 |    6     123456789 123456789 |123456789 123456789 123456789 \n",
      "123456789     9     123456789 |123456789 123456789 123456789 |123456789 123456789 123456789 \n",
      "123456789 123456789 123456789 |123456789 123456789 123456789 |123456789 123456789 123456789 \n"
     ]
    }
   ],
   "source": [
    "display(grid_values(diag_sudoku_grid))"
   ]
  },
  {
   "cell_type": "code",
   "execution_count": 5,
   "metadata": {},
   "outputs": [
    {
     "name": "stdout",
     "output_type": "stream",
     "text": [
      "9 6 1 |3 5 4 |2 8 7 \n",
      "8 3 5 |2 7 6 |1 4 9 \n",
      "2 7 4 |8 9 1 |3 6 5 \n",
      "------+------+------\n",
      "4 2 7 |1 3 8 |9 5 6 \n",
      "5 8 3 |9 6 2 |7 1 4 \n",
      "6 1 9 |5 4 7 |8 3 2 \n",
      "------+------+------\n",
      "3 4 2 |6 8 9 |5 7 1 \n",
      "7 9 8 |4 1 5 |6 2 3 \n",
      "1 5 6 |7 2 3 |4 9 8 \n"
     ]
    }
   ],
   "source": [
    "display(solve(diag_sudoku_grid))"
   ]
  },
  {
   "cell_type": "code",
   "execution_count": null,
   "metadata": {
    "collapsed": true
   },
   "outputs": [],
   "source": []
  }
 ],
 "metadata": {
  "kernelspec": {
   "display_name": "Python 3",
   "language": "python",
   "name": "python3"
  },
  "language_info": {
   "codemirror_mode": {
    "name": "ipython",
    "version": 3
   },
   "file_extension": ".py",
   "mimetype": "text/x-python",
   "name": "python",
   "nbconvert_exporter": "python",
   "pygments_lexer": "ipython3",
   "version": "3.6.1"
  }
 },
 "nbformat": 4,
 "nbformat_minor": 2
}
